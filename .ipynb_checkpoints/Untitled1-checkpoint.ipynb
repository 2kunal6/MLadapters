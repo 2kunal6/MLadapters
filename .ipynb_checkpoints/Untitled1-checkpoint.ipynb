{
 "cells": [
  {
   "cell_type": "code",
   "execution_count": 1,
   "metadata": {},
   "outputs": [
    {
     "name": "stderr",
     "output_type": "stream",
     "text": [
      "* Owlready2 * Warning: optimized Cython parser module 'owlready2_optimized' is not available, defaulting to slower Python implementation\n"
     ]
    }
   ],
   "source": [
    "from owlready2 import *\n",
    "import shutil\n",
    "from util import file_util\n",
    "from util.graph_util import Graph\n",
    "from service import python_content_creator"
   ]
  },
  {
   "cell_type": "code",
   "execution_count": 2,
   "metadata": {
    "scrolled": true
   },
   "outputs": [
    {
     "name": "stdout",
     "output_type": "stream",
     "text": [
      "[webprotege.stanford.edu.R8XAj3HWM87sh9ofSlfIUSk, webprotege.stanford.edu.R8r30523786vPE6whATQiBN, webprotege.stanford.edu.R9TvrbvAp2NFdYP3qsNF1DX, webprotege.stanford.edu.RDvvzFdODYuNLYd9E948CxD, webprotege.stanford.edu.R719mWhdnGdth3UJQozrnCK, webprotege.stanford.edu.RIufK5pygrHCyl5Wfyafmq, webprotege.stanford.edu.R7IMxLkskbQe13whRMzxF8s, webprotege.stanford.edu.R7fxzoVVLG8MlmC6QeN7tRc, webprotege.stanford.edu.R7onHvmSbVWyWa8iY7mzKgb, webprotege.stanford.edu.R8SGNQyOTcl3xrMjtAZcmGl, webprotege.stanford.edu.R7zrTYgEAHaBUDH3C16NAvA, webprotege.stanford.edu.R82pLB6FrKepWg13IkrkxJ3, webprotege.stanford.edu.R8IdG5NgGHNOue3dJfTg333, webprotege.stanford.edu.R8LC97vhqgyji8kHQl7B5Ts, webprotege.stanford.edu.R8LpOq1RwHlzCPauQKEJwhR, webprotege.stanford.edu.R8zLdFPabNIe3UNRgCylwo1, webprotege.stanford.edu.RBAobLdpjmgZAkQTsZQoqcF, webprotege.stanford.edu.RBfuwWUHIhalezxaABVjLLF, webprotege.stanford.edu.RBh0POQLMRDwcQOIkhZWsJ5, ml_ontology.Regression, webprotege.stanford.edu.RtG0IvDPvcmvwz5rddgNnj, webprotege.stanford.edu.RCD1MjFOUkFOqyshq901eER, webprotege.stanford.edu.Rd1VvnSg6NLxVUdRIm1ltD, webprotege.stanford.edu.RCwcnabmWpA71A9tS7LkBoG, webprotege.stanford.edu.RDuWqCo4BVBWiCLWCnPuKz7, webprotege.stanford.edu.RBhIiVwaCyPNH4EqzSYSb1w, webprotege.stanford.edu.RCAfkfNq0cHWgHMfwCzKkq, webprotege.stanford.edu.RocauDDDM2eULZabumD00j, webprotege.stanford.edu.RDzCaJfQ0ZNm2eO29d6Wpd2, webprotege.stanford.edu.ROjeCszbQesvuWJdrjDmP6, ml_ontology.Bayesian, ml_ontology.DecisionTrees, ml_ontology.classification, ml_ontology.DimensionalityReduction, ml_ontology.KMeans, ml_ontology.clustering, ml_ontology.MLP, ml_ontology.NeuralNetworks, ml_ontology.MLPClassifier, ml_ontology.MLPRegressor, ml_ontology.selection]\n"
     ]
    },
    {
     "ename": "AttributeError",
     "evalue": "target",
     "output_type": "error",
     "traceback": [
      "\u001b[1;31m---------------------------------------------------------------------------\u001b[0m",
      "\u001b[1;31mAttributeError\u001b[0m                            Traceback (most recent call last)",
      "\u001b[1;32m<ipython-input-2-4a02b33e6f9e>\u001b[0m in \u001b[0;36m<module>\u001b[1;34m\u001b[0m\n\u001b[0;32m      2\u001b[0m \u001b[0monto\u001b[0m\u001b[1;33m.\u001b[0m\u001b[0mload\u001b[0m\u001b[1;33m(\u001b[0m\u001b[1;33m)\u001b[0m\u001b[1;33m\u001b[0m\u001b[1;33m\u001b[0m\u001b[0m\n\u001b[0;32m      3\u001b[0m \u001b[0mprint\u001b[0m\u001b[1;33m(\u001b[0m\u001b[0mlist\u001b[0m\u001b[1;33m(\u001b[0m\u001b[0monto\u001b[0m\u001b[1;33m.\u001b[0m\u001b[0mclasses\u001b[0m\u001b[1;33m(\u001b[0m\u001b[1;33m)\u001b[0m\u001b[1;33m)\u001b[0m\u001b[1;33m)\u001b[0m\u001b[1;33m\u001b[0m\u001b[1;33m\u001b[0m\u001b[0m\n\u001b[1;32m----> 4\u001b[1;33m \u001b[0mprint\u001b[0m\u001b[1;33m(\u001b[0m\u001b[0monto\u001b[0m\u001b[1;33m.\u001b[0m\u001b[0msearch\u001b[0m\u001b[1;33m(\u001b[0m\u001b[1;34m\"LinearRegression\"\u001b[0m\u001b[1;33m)\u001b[0m\u001b[1;33m)\u001b[0m\u001b[1;33m\u001b[0m\u001b[1;33m\u001b[0m\u001b[0m\n\u001b[0m",
      "\u001b[1;32m~\\anaconda3\\lib\\site-packages\\owlready2\\util.py\u001b[0m in \u001b[0;36m__str__\u001b[1;34m(self)\u001b[0m\n\u001b[0;32m    146\u001b[0m \u001b[1;33m\u001b[0m\u001b[0m\n\u001b[0;32m    147\u001b[0m   \u001b[1;32mdef\u001b[0m \u001b[0m__str__\u001b[0m\u001b[1;33m(\u001b[0m\u001b[0mself\u001b[0m\u001b[1;33m)\u001b[0m\u001b[1;33m:\u001b[0m\u001b[1;33m\u001b[0m\u001b[1;33m\u001b[0m\u001b[0m\n\u001b[1;32m--> 148\u001b[1;33m     \u001b[0mself\u001b[0m\u001b[1;33m.\u001b[0m\u001b[0mpopulate\u001b[0m\u001b[1;33m(\u001b[0m\u001b[1;33m)\u001b[0m\u001b[1;33m\u001b[0m\u001b[1;33m\u001b[0m\u001b[0m\n\u001b[0m\u001b[0;32m    149\u001b[0m     \u001b[1;32mreturn\u001b[0m \u001b[0mstr\u001b[0m\u001b[1;33m(\u001b[0m\u001b[0mself\u001b[0m\u001b[1;33m)\u001b[0m\u001b[1;33m\u001b[0m\u001b[1;33m\u001b[0m\u001b[0m\n\u001b[0;32m    150\u001b[0m \u001b[1;33m\u001b[0m\u001b[0m\n",
      "\u001b[1;32m~\\anaconda3\\lib\\site-packages\\owlready2\\util.py\u001b[0m in \u001b[0;36mpopulate\u001b[1;34m(self)\u001b[0m\n\u001b[0;32m    138\u001b[0m \u001b[1;33m\u001b[0m\u001b[0m\n\u001b[0;32m    139\u001b[0m   \u001b[1;32mdef\u001b[0m \u001b[0mpopulate\u001b[0m\u001b[1;33m(\u001b[0m\u001b[0mself\u001b[0m\u001b[1;33m)\u001b[0m\u001b[1;33m:\u001b[0m\u001b[1;33m\u001b[0m\u001b[1;33m\u001b[0m\u001b[0m\n\u001b[1;32m--> 140\u001b[1;33m     \u001b[0mlist\u001b[0m\u001b[1;33m.\u001b[0m\u001b[0m__init__\u001b[0m\u001b[1;33m(\u001b[0m\u001b[0mself\u001b[0m\u001b[1;33m,\u001b[0m \u001b[0mself\u001b[0m\u001b[1;33m.\u001b[0m\u001b[0m_get_content\u001b[0m\u001b[1;33m(\u001b[0m\u001b[1;33m)\u001b[0m\u001b[1;33m)\u001b[0m\u001b[1;33m\u001b[0m\u001b[1;33m\u001b[0m\u001b[0m\n\u001b[0m\u001b[0;32m    141\u001b[0m     \u001b[0mself\u001b[0m\u001b[1;33m.\u001b[0m\u001b[0m__class__\u001b[0m \u001b[1;33m=\u001b[0m \u001b[0mself\u001b[0m\u001b[1;33m.\u001b[0m\u001b[0m_PopulatedClass\u001b[0m\u001b[1;33m\u001b[0m\u001b[1;33m\u001b[0m\u001b[0m\n\u001b[0;32m    142\u001b[0m \u001b[1;33m\u001b[0m\u001b[0m\n",
      "\u001b[1;32m~\\anaconda3\\lib\\site-packages\\owlready2\\triplelite.py\u001b[0m in \u001b[0;36m_do_search\u001b[1;34m(self)\u001b[0m\n\u001b[0;32m   1469\u001b[0m       \u001b[1;32mreturn\u001b[0m \u001b[1;33m(\u001b[0m\u001b[1;33m(\u001b[0m\u001b[0mself\u001b[0m\u001b[1;33m.\u001b[0m\u001b[0mworld\u001b[0m\u001b[1;33m.\u001b[0m\u001b[0m_get_by_storid\u001b[0m\u001b[1;33m(\u001b[0m\u001b[0mo\u001b[0m\u001b[1;33m)\u001b[0m\u001b[1;33m,\u001b[0m \u001b[0mbm25\u001b[0m\u001b[1;33m)\u001b[0m \u001b[1;32mfor\u001b[0m \u001b[1;33m(\u001b[0m\u001b[0mo\u001b[0m\u001b[1;33m,\u001b[0m \u001b[0mbm25\u001b[0m\u001b[1;33m)\u001b[0m \u001b[1;32min\u001b[0m \u001b[0mos_bm25s\u001b[0m\u001b[1;33m)\u001b[0m\u001b[1;33m\u001b[0m\u001b[1;33m\u001b[0m\u001b[0m\n\u001b[0;32m   1470\u001b[0m     \u001b[1;32melse\u001b[0m\u001b[1;33m:\u001b[0m\u001b[1;33m\u001b[0m\u001b[1;33m\u001b[0m\u001b[0m\n\u001b[1;32m-> 1471\u001b[1;33m       \u001b[0msql\u001b[0m\u001b[1;33m,\u001b[0m \u001b[0mparams\u001b[0m \u001b[1;33m=\u001b[0m \u001b[0mself\u001b[0m\u001b[1;33m.\u001b[0m\u001b[0msql_request\u001b[0m\u001b[1;33m(\u001b[0m\u001b[1;33m)\u001b[0m\u001b[1;33m\u001b[0m\u001b[1;33m\u001b[0m\u001b[0m\n\u001b[0m\u001b[0;32m   1472\u001b[0m       \u001b[1;32mreturn\u001b[0m \u001b[1;33m(\u001b[0m\u001b[0mself\u001b[0m\u001b[1;33m.\u001b[0m\u001b[0mworld\u001b[0m\u001b[1;33m.\u001b[0m\u001b[0m_get_by_storid\u001b[0m\u001b[1;33m(\u001b[0m\u001b[0mo\u001b[0m\u001b[1;33m)\u001b[0m \u001b[1;32mfor\u001b[0m \u001b[1;33m(\u001b[0m\u001b[0mo\u001b[0m\u001b[1;33m,\u001b[0m\u001b[1;33m)\u001b[0m \u001b[1;32min\u001b[0m \u001b[0mself\u001b[0m\u001b[1;33m.\u001b[0m\u001b[0mworld\u001b[0m\u001b[1;33m.\u001b[0m\u001b[0mgraph\u001b[0m\u001b[1;33m.\u001b[0m\u001b[0mexecute\u001b[0m\u001b[1;33m(\u001b[0m\u001b[0msql\u001b[0m\u001b[1;33m,\u001b[0m \u001b[0mparams\u001b[0m\u001b[1;33m)\u001b[0m\u001b[1;33m.\u001b[0m\u001b[0mfetchall\u001b[0m\u001b[1;33m(\u001b[0m\u001b[1;33m)\u001b[0m\u001b[1;33m)\u001b[0m\u001b[1;33m\u001b[0m\u001b[1;33m\u001b[0m\u001b[0m\n\u001b[0;32m   1473\u001b[0m   \u001b[0m_get_content\u001b[0m \u001b[1;33m=\u001b[0m \u001b[0m_do_search\u001b[0m\u001b[1;33m\u001b[0m\u001b[1;33m\u001b[0m\u001b[0m\n",
      "\u001b[1;32m~\\anaconda3\\lib\\site-packages\\owlready2\\triplelite.py\u001b[0m in \u001b[0;36msql_request\u001b[1;34m(self)\u001b[0m\n\u001b[0;32m   1449\u001b[0m \u001b[1;33m\u001b[0m\u001b[0m\n\u001b[0;32m   1450\u001b[0m   \u001b[1;32mdef\u001b[0m \u001b[0msql_request\u001b[0m\u001b[1;33m(\u001b[0m\u001b[0mself\u001b[0m\u001b[1;33m)\u001b[0m\u001b[1;33m:\u001b[0m\u001b[1;33m\u001b[0m\u001b[1;33m\u001b[0m\u001b[0m\n\u001b[1;32m-> 1451\u001b[1;33m     \u001b[0mtransits\u001b[0m\u001b[1;33m,\u001b[0m \u001b[0msql\u001b[0m\u001b[1;33m,\u001b[0m \u001b[0mparams\u001b[0m \u001b[1;33m=\u001b[0m \u001b[0mself\u001b[0m\u001b[1;33m.\u001b[0m\u001b[0msql_components\u001b[0m\u001b[1;33m(\u001b[0m\u001b[1;33m)\u001b[0m\u001b[1;33m\u001b[0m\u001b[1;33m\u001b[0m\u001b[0m\n\u001b[0m\u001b[0;32m   1452\u001b[0m     \u001b[1;32mif\u001b[0m \u001b[0mtransits\u001b[0m\u001b[1;33m:\u001b[0m \u001b[0msql\u001b[0m \u001b[1;33m=\u001b[0m \u001b[1;34m\"WITH RECURSIVE %s %s\"\u001b[0m \u001b[1;33m%\u001b[0m \u001b[1;33m(\u001b[0m\u001b[1;34m\", \"\u001b[0m\u001b[1;33m.\u001b[0m\u001b[0mjoin\u001b[0m\u001b[1;33m(\u001b[0m\u001b[0mtransits\u001b[0m\u001b[1;33m)\u001b[0m\u001b[1;33m,\u001b[0m \u001b[0msql\u001b[0m\u001b[1;33m)\u001b[0m\u001b[1;33m\u001b[0m\u001b[1;33m\u001b[0m\u001b[0m\n\u001b[0;32m   1453\u001b[0m     \u001b[1;32mreturn\u001b[0m \u001b[0msql\u001b[0m\u001b[1;33m,\u001b[0m \u001b[0mparams\u001b[0m\u001b[1;33m\u001b[0m\u001b[1;33m\u001b[0m\u001b[0m\n",
      "\u001b[1;32m~\\anaconda3\\lib\\site-packages\\owlready2\\triplelite.py\u001b[0m in \u001b[0;36msql_components\u001b[1;34m(self, last_request)\u001b[0m\n\u001b[0;32m   1767\u001b[0m         \u001b[0msql\u001b[0m \u001b[1;33m=\u001b[0m \u001b[1;34m\"SELECT DISTINCT q%s.s, bm25(%s) FROM %s WHERE %s\"\u001b[0m \u001b[1;33m%\u001b[0m \u001b[1;33m(\u001b[0m\u001b[0mself\u001b[0m\u001b[1;33m.\u001b[0m\u001b[0mtarget\u001b[0m\u001b[1;33m,\u001b[0m \u001b[0mself\u001b[0m\u001b[1;33m.\u001b[0m\u001b[0mbm25\u001b[0m\u001b[1;33m,\u001b[0m \u001b[1;34m\", \"\u001b[0m   \u001b[1;33m.\u001b[0m\u001b[0mjoin\u001b[0m\u001b[1;33m(\u001b[0m\u001b[0mtables\u001b[0m\u001b[1;33m)\u001b[0m\u001b[1;33m,\u001b[0m \u001b[1;34m\" AND \"\u001b[0m\u001b[1;33m.\u001b[0m\u001b[0mjoin\u001b[0m\u001b[1;33m(\u001b[0m\u001b[0mconditions\u001b[0m\u001b[1;33m)\u001b[0m\u001b[1;33m)\u001b[0m\u001b[1;33m\u001b[0m\u001b[1;33m\u001b[0m\u001b[0m\n\u001b[0;32m   1768\u001b[0m       \u001b[1;32melse\u001b[0m\u001b[1;33m:\u001b[0m\u001b[1;33m\u001b[0m\u001b[1;33m\u001b[0m\u001b[0m\n\u001b[1;32m-> 1769\u001b[1;33m         \u001b[0msql\u001b[0m \u001b[1;33m=\u001b[0m \u001b[1;34m\"SELECT DISTINCT q%s.s FROM %s WHERE %s\"\u001b[0m \u001b[1;33m%\u001b[0m \u001b[1;33m(\u001b[0m\u001b[0mself\u001b[0m\u001b[1;33m.\u001b[0m\u001b[0mtarget\u001b[0m\u001b[1;33m,\u001b[0m \u001b[1;34m\", \"\u001b[0m   \u001b[1;33m.\u001b[0m\u001b[0mjoin\u001b[0m\u001b[1;33m(\u001b[0m\u001b[0mtables\u001b[0m\u001b[1;33m)\u001b[0m\u001b[1;33m,\u001b[0m \u001b[1;34m\" AND \"\u001b[0m\u001b[1;33m.\u001b[0m\u001b[0mjoin\u001b[0m\u001b[1;33m(\u001b[0m\u001b[0mconditions\u001b[0m\u001b[1;33m)\u001b[0m\u001b[1;33m)\u001b[0m\u001b[1;33m\u001b[0m\u001b[1;33m\u001b[0m\u001b[0m\n\u001b[0m\u001b[0;32m   1770\u001b[0m \u001b[1;33m\u001b[0m\u001b[0m\n\u001b[0;32m   1771\u001b[0m     \u001b[1;32melse\u001b[0m\u001b[1;33m:\u001b[0m\u001b[1;33m\u001b[0m\u001b[1;33m\u001b[0m\u001b[0m\n",
      "\u001b[1;31mAttributeError\u001b[0m: target"
     ]
    }
   ],
   "source": [
    "onto = get_ontology(\"onto_29_1.owl\")\n",
    "onto.load()\n",
    "print(list(onto.classes()))\n",
    "print(onto.search(\"LinearRegression\"))"
   ]
  },
  {
   "cell_type": "code",
   "execution_count": 3,
   "metadata": {},
   "outputs": [],
   "source": [
    "from owlready2.namespace import *\n",
    "def create_file_contents(file, node):\n",
    "    print(\"Node\", node.label)\n",
    "    print(node.equivalent_to)\n",
    "    for i in node.get_class_properties():\n",
    "        try:\n",
    "            #print(node.property)\n",
    "            #print(getattr(Class, i.python_name))\n",
    "            #print(i[Class])\n",
    "            print(i.label[0])\n",
    "        except:\n",
    "            pass"
   ]
  },
  {
   "cell_type": "code",
   "execution_count": 12,
   "metadata": {},
   "outputs": [
    {
     "name": "stdout",
     "output_type": "stream",
     "text": [
      "Node ['MLalgorithms']\n",
      "[]\n",
      "Node ['Regression']\n",
      "[]\n",
      "Node ['Bayesian']\n",
      "[]\n",
      "Node ['Classification']\n",
      "[]\n",
      "Node ['DimensionalityReduction']\n",
      "[]\n",
      "Node ['Clustering']\n",
      "[]\n",
      "Node ['NeuralNetworks']\n",
      "[]\n",
      "Node ['RidgeRegression']\n",
      "[]\n",
      "score->X\n",
      "set_params->params\n",
      "__init__->random_state\n",
      "fit->sample_weight\n",
      "attr_2\n",
      "score->sample_weight\n",
      "fit->X\n",
      "__init__->normalize\n",
      "attr_3\n",
      "__init__->tol\n",
      "__init__->fit_intercept\n",
      "predict->X\n",
      "__init__->copy_X\n",
      "__init__->max_iter\n",
      "fit->y\n",
      "score->y\n",
      "get_params->deep\n",
      "__init__->solver\n",
      "__init__->alpha\n",
      "attr_1\n",
      "Node ['LinearRegression']\n",
      "[]\n",
      "score->X\n",
      "set_params->params\n",
      "__init__->n_jobs\n",
      "fit->sample_weight\n",
      "attr_2\n",
      "score->sample_weight\n",
      "__init__->positive\n",
      "fit->X\n",
      "__init__->normalize\n",
      "attr_3\n",
      "__init__->fit_intercept\n",
      "attr_4\n",
      "predict->X\n",
      "__init__->copy_X\n",
      "fit->y\n",
      "score->y\n",
      "get_params->deep\n",
      "attr_1\n",
      "Node ['LassoRegression']\n",
      "[]\n",
      "__init__->normalize\n",
      "__init__->copy_X\n",
      "__init__->max_iter\n",
      "__init__->tol\n",
      "__init__->alpha\n",
      "__init__->fit_intercept\n",
      "Node ['DecisionTrees']\n",
      "[]\n",
      "Node ['KMeans']\n",
      "[]\n",
      "Node ['MLP']\n",
      "[]\n",
      "Node ['MLPClassifier']\n",
      "[]\n",
      "Node ['MLPRegressor']\n",
      "[]\n",
      "['MLalgorithms', 'MLalgorithms\\\\Regression', 'MLalgorithms\\\\Bayesian', 'MLalgorithms\\\\Classification', 'MLalgorithms\\\\DimensionalityReduction', 'MLalgorithms\\\\Clustering', 'MLalgorithms\\\\NeuralNetworks', 'MLalgorithms\\\\Regression\\\\RidgeRegression', 'MLalgorithms\\\\Regression\\\\LinearRegression', 'MLalgorithms\\\\Regression\\\\LassoRegression', 'MLalgorithms\\\\Classification\\\\DecisionTrees', 'MLalgorithms\\\\Clustering\\\\KMeans', 'MLalgorithms\\\\NeuralNetworks\\\\MLP', 'MLalgorithms\\\\NeuralNetworks\\\\MLP\\\\MLPClassifier', 'MLalgorithms\\\\NeuralNetworks\\\\MLP\\\\MLPRegressor']\n"
     ]
    }
   ],
   "source": [
    "import os\n",
    "queue = []\n",
    "root_class = None\n",
    "for onto_class in list(onto.classes()):\n",
    "    if(onto_class.label[0] == 'MLalgorithms'):\n",
    "        root_class = onto_class\n",
    "\n",
    "queue.append(root_class)\n",
    "dir_structure = [root_class.label[0]]\n",
    "file_path = []\n",
    "while queue:\n",
    "    node = queue.pop(0)\n",
    "    file = dir_structure.pop(0)\n",
    "    if onto.get_children_of(node):\n",
    "        file_util.create_folders_and_subfolders(file)\n",
    "    file_util.create_file(file + \".py\")\n",
    "    create_file_contents(file, node)\n",
    "    file_path.append(file)\n",
    "    for child in onto.get_children_of(node):\n",
    "        #print(node.label,\"--\",child.label)\n",
    "        queue.append(child)\n",
    "        dir_structure.append(os.path.join(file, child.label[0]))\n",
    "\n",
    "print(file_path)"
   ]
  },
  {
   "cell_type": "code",
   "execution_count": null,
   "metadata": {},
   "outputs": [],
   "source": []
  }
 ],
 "metadata": {
  "kernelspec": {
   "display_name": "Python 3",
   "language": "python",
   "name": "python3"
  },
  "language_info": {
   "codemirror_mode": {
    "name": "ipython",
    "version": 3
   },
   "file_extension": ".py",
   "mimetype": "text/x-python",
   "name": "python",
   "nbconvert_exporter": "python",
   "pygments_lexer": "ipython3",
   "version": "3.7.6"
  }
 },
 "nbformat": 4,
 "nbformat_minor": 4
}
