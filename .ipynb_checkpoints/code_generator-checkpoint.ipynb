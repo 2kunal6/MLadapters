{
 "cells": [
  {
   "cell_type": "code",
   "execution_count": 9,
   "metadata": {},
   "outputs": [],
   "source": [
    "from owlready2 import *\n",
    "import shutil"
   ]
  },
  {
   "cell_type": "code",
   "execution_count": 10,
   "metadata": {},
   "outputs": [],
   "source": [
    "from util import file_util\n",
    "from util.graph_util import Graph\n",
    "from service import python_content_creator"
   ]
  },
  {
   "cell_type": "code",
   "execution_count": 18,
   "metadata": {},
   "outputs": [],
   "source": [
    "member_propagation = {}\n",
    "cp_map = {}\n",
    "template = \"\"\"\n",
    "{import_statements}\n",
    "class {class_name}({parent}):\n",
    "    {functions}\n",
    "\"\"\"\n",
    "def generate_imports_from_template(node):\n",
    "    return None\n",
    "\n",
    "def generate_class_from_template(node, parent, functions, imports):\n",
    "    return template.format(\n",
    "        import_statements=imports, \n",
    "        class_name=node.label.first(), \n",
    "        parent= parent.label.first() if parent else \"\", \n",
    "        functions=functions)\n",
    "\n",
    "def function_name_handler(func_name):\n",
    "    if func_name == \"init\":\n",
    "        return \"__init__\"\n",
    "    return func_name\n",
    "\n",
    "        \n",
    "        \n",
    "def generate_function_body_from_template(node, func, target):\n",
    "    print(\"STM: \", func.label.first())\n",
    "    if func.label.first() == \"init\":\n",
    "        stmts = [\"self.{var} = {var}\".format(var=obj.label.first()) for obj in target]\n",
    "        stmt = \"\\n\\t\".join(stmts)\n",
    "        params = get_inherited_params(node)\n",
    "        if params:\n",
    "            stmt = stmt + \"\\n\\t{parent}.__init__(self, {params})\".format(\n",
    "                parent=cp_map[node].label.first(), params=params)\n",
    "        return stmt\n",
    "\n",
    "def generate_function_param_from_template(node, target):\n",
    "    params = \"\"\n",
    "    param_template = \"{var} = {value}\"\n",
    "    for obj in target:\n",
    "        if not obj.default:\n",
    "            param = obj.label.first()\n",
    "        else:\n",
    "            param = param_template.format(\n",
    "                var=obj.label.first(), value=obj.default.first())\n",
    "        params = params + \", \" + param\n",
    "    inherited_params = get_inherited_params(node)\n",
    "    if inherited_params:\n",
    "        params = \", \" + inherited_params + params \n",
    "    return params\n",
    "\n",
    "def generate_function_from_template(node, func):\n",
    "    func_template = \"\"\"\n",
    "    def {func_name}(self{params}):\n",
    "        {statements}\n",
    "    \n",
    "    \"\"\"\n",
    "    print(\"LABEL: \",func.label[0])\n",
    "    var = func.label.first()\n",
    "    target = eval(\"node.\"+var)\n",
    "    print(\"TARGET: \",target)\n",
    "    if var == \"init\":\n",
    "        for child in node.descendants():\n",
    "            if child != node:\n",
    "                if member_propagation.get(child):\n",
    "                    member_propagation[child].extend(target)\n",
    "                else:\n",
    "                    member_propagation[child] = target\n",
    "    if target:\n",
    "        func = func_template.format(\n",
    "            func_name=function_name_handler(func.label.first()),\n",
    "            params=generate_function_param_from_template(node, target),\n",
    "            statements=generate_function_body_from_template(node, func, target)\n",
    "        )\n",
    "        #print(func)\n",
    "        #print(target[0].label.first())\n",
    "        return func\n",
    "\n",
    "def get_inherited_params(node):\n",
    "    inherited_variables = member_propagation.get(node)\n",
    "    if inherited_variables:\n",
    "        var = [obj.label.first() for obj in inherited_variables]\n",
    "        params = \", \".join(var)\n",
    "        return params\n",
    "    return \"\"\n",
    "    \n",
    "def generate_init_by_member_propagation(node):\n",
    "    func_template = \"\"\"\n",
    "    def __init__(self, {params}):\n",
    "        {parent}.__init__(self, {params})\n",
    "    \"\"\"\n",
    "    return func_template.format(\n",
    "        params=get_inherited_params(node),\n",
    "        parent=cp_map[node].label.first()\n",
    "    )\n",
    "    \n",
    "    \n",
    "def generate_functions_from_template(node):\n",
    "    function_names = set()\n",
    "    func_data = \"\"\n",
    "    for func in node.get_class_properties():\n",
    "        if func.label:\n",
    "            func_data = func_data + generate_function_from_template(node, func)\n",
    "            function_names.add(func.label[0])\n",
    "    #print(func_data)\n",
    "    if not func_data and member_propagation.get(node):\n",
    "            func_data = generate_init_by_member_propagation(node)\n",
    "    return func_data\n",
    "        \n",
    "\n",
    "def create_file_contents(file, node, child_parent_map):\n",
    "    print(node.label)\n",
    "    global cp_map\n",
    "    cp_map = child_parent_map\n",
    "    parent = cp_map[node]\n",
    "    if parent:\n",
    "        print(\"PARENT: \", parent)\n",
    "    func_data = generate_functions_from_template(node)\n",
    "    if not func_data:\n",
    "        func_data = \"pass\"\n",
    "    print(generate_class_from_template(node, parent, func_data, None))\n",
    "    #print(\"MEM_PROP: \", member_propagation)"
   ]
  },
  {
   "cell_type": "code",
   "execution_count": 19,
   "metadata": {
    "scrolled": true
   },
   "outputs": [
    {
     "name": "stdout",
     "output_type": "stream",
     "text": [
      "[ml_algorithms.default, ml_algorithms.mla:default, ml_algorithms.mla:dtype]\n",
      "['MLalgorithms']\n",
      "\n",
      "None\n",
      "class MLalgorithms():\n",
      "    pass\n",
      "\n",
      "['Bayesian']\n",
      "PARENT:  ml_algorithms.MLalgoritthms\n",
      "\n",
      "None\n",
      "class Bayesian(MLalgorithms):\n",
      "    pass\n",
      "\n",
      "['Classification']\n",
      "PARENT:  ml_algorithms.MLalgoritthms\n",
      "\n",
      "None\n",
      "class Classification(MLalgorithms):\n",
      "    pass\n",
      "\n",
      "['Clustering']\n",
      "PARENT:  ml_algorithms.MLalgoritthms\n",
      "\n",
      "None\n",
      "class Clustering(MLalgorithms):\n",
      "    pass\n",
      "\n",
      "['Regression']\n",
      "PARENT:  ml_algorithms.MLalgoritthms\n",
      "LABEL:  init\n",
      "TARGET:  [ml_algorithms.normalize, ml_algorithms.copy_X, ml_algorithms.fit_intercept, ml_algorithms.n_jobs, ml_algorithms.max_iter]\n",
      "STM:  init\n",
      "LABEL:  predict\n",
      "TARGET:  [ml_algorithms.X]\n",
      "STM:  predict\n",
      "LABEL:  fit\n",
      "TARGET:  [ml_algorithms.sample_weight, ml_algorithms.y, ml_algorithms.X]\n",
      "STM:  fit\n",
      "\n",
      "None\n",
      "class Regression(MLalgorithms):\n",
      "    \n",
      "    def __init__(self, normalize, copy_X, fit_intercept, n_jobs = None, max_iter):\n",
      "        self.normalize = normalize\n",
      "\tself.copy_X = copy_X\n",
      "\tself.fit_intercept = fit_intercept\n",
      "\tself.n_jobs = n_jobs\n",
      "\tself.max_iter = max_iter\n",
      "    \n",
      "    \n",
      "    def predict(self, X):\n",
      "        None\n",
      "    \n",
      "    \n",
      "    def fit(self, sample_weight, y, X):\n",
      "        None\n",
      "    \n",
      "    \n",
      "\n",
      "['LassoRegression']\n",
      "PARENT:  ml_algorithms.Regression\n",
      "LABEL:  init\n",
      "TARGET:  [ml_algorithms.max_iter]\n",
      "STM:  init\n",
      "\n",
      "None\n",
      "class LassoRegression(Regression):\n",
      "    \n",
      "    def __init__(self, normalize, copy_X, fit_intercept, n_jobs, max_iter, max_iter, max_iter):\n",
      "        self.max_iter = max_iter\n",
      "\tRegression.__init__(self, normalize, copy_X, fit_intercept, n_jobs, max_iter, max_iter)\n",
      "    \n",
      "    \n",
      "\n",
      "['LinearRegression']\n",
      "PARENT:  ml_algorithms.Regression\n",
      "\n",
      "None\n",
      "class LinearRegression(Regression):\n",
      "    \n",
      "    def __init__(self, normalize, copy_X, fit_intercept, n_jobs, max_iter, max_iter):\n",
      "        Regression.__init__(self, normalize, copy_X, fit_intercept, n_jobs, max_iter, max_iter)\n",
      "    \n",
      "\n",
      "['RidgeRegression']\n",
      "PARENT:  ml_algorithms.Regression\n",
      "\n",
      "None\n",
      "class RidgeRegression(Regression):\n",
      "    \n",
      "    def __init__(self, normalize, copy_X, fit_intercept, n_jobs, max_iter, max_iter):\n",
      "        Regression.__init__(self, normalize, copy_X, fit_intercept, n_jobs, max_iter, max_iter)\n",
      "    \n",
      "\n",
      "['LassoTempReg']\n",
      "PARENT:  ml_algorithms.LassoRegression\n",
      "LABEL:  init\n",
      "TARGET:  [ml_algorithms.alpha]\n",
      "STM:  init\n",
      "\n",
      "None\n",
      "class LassoTempReg(LassoRegression):\n",
      "    \n",
      "    def __init__(self, normalize, copy_X, fit_intercept, n_jobs, max_iter, max_iter, alpha = \"Hi\"):\n",
      "        self.alpha = alpha\n",
      "\tLassoRegression.__init__(self, normalize, copy_X, fit_intercept, n_jobs, max_iter, max_iter)\n",
      "    \n",
      "    \n",
      "\n",
      "['MLalgorithms', 'MLalgorithms\\\\Bayesian', 'MLalgorithms\\\\Classification', 'MLalgorithms\\\\Clustering', 'MLalgorithms\\\\Regression', 'MLalgorithms\\\\Regression\\\\LassoRegression', 'MLalgorithms\\\\Regression\\\\LinearRegression', 'MLalgorithms\\\\Regression\\\\RidgeRegression', 'MLalgorithms\\\\Regression\\\\LassoRegression\\\\LassoTempReg']\n"
     ]
    }
   ],
   "source": [
    "child_parent_map = {}\n",
    "onto = get_ontology(\"ml_algorithms.owl\").load()\n",
    "import os\n",
    "queue = []\n",
    "root_class = None\n",
    "#print(onto.classes())\n",
    "print([i for i in onto.annotation_properties()])\n",
    "for onto_class in list(onto.classes()):\n",
    "    #print(onto_class.label)\n",
    "    if(onto_class.label[0] == 'MLalgorithms'):\n",
    "        #print(onto_class.label)\n",
    "        root_class = onto_class\n",
    "\n",
    "queue.append(root_class)\n",
    "dir_structure = [root_class.label[0]]\n",
    "file_path = []\n",
    "child_parent_map[root_class] = None\n",
    "while queue:\n",
    "    node = queue.pop(0)\n",
    "    #print(\"Node: \", node, \"DESC: \", node.descendants())\n",
    "    file = dir_structure.pop(0)\n",
    "    if onto.get_children_of(node):\n",
    "        file_util.create_folders_and_subfolders(file)\n",
    "    file_util.create_file(file + \".py\")\n",
    "    create_file_contents(file, node, child_parent_map)\n",
    "    file_path.append(file)\n",
    "    for child in onto.get_children_of(node):\n",
    "        queue.append(child)\n",
    "        child_parent_map[child] = node\n",
    "        dir_structure.append(os.path.join(file, child.label[0]))\n",
    "\n",
    "del member_propagation\n",
    "del cp_map\n",
    "print(file_path)"
   ]
  },
  {
   "cell_type": "code",
   "execution_count": null,
   "metadata": {},
   "outputs": [],
   "source": [
    "for i in list(root_class.descendants()):\n",
    "    if i.label[0] == 'Regression':\n",
    "        for j in list(i.descendants()):\n",
    "            print(j.label[0])\n",
    "            for k in list(onto.object_properties()):\n",
    "                try:\n",
    "                    print(\"df\",k)\n",
    "                except:\n",
    "                    pass"
   ]
  },
  {
   "cell_type": "code",
   "execution_count": 72,
   "metadata": {},
   "outputs": [],
   "source": [
    "class ML:\n",
    "    def __init__(self, a, b):\n",
    "        self.a = a\n",
    "        self.b = b\n",
    "        \n",
    "    def fit(self, X, y):\n",
    "        self._model.printf(X)"
   ]
  },
  {
   "cell_type": "code",
   "execution_count": 73,
   "metadata": {},
   "outputs": [],
   "source": [
    "class student:\n",
    "    def printf(self, X):\n",
    "        print(X)"
   ]
  },
  {
   "cell_type": "code",
   "execution_count": 76,
   "metadata": {},
   "outputs": [],
   "source": [
    "class DT(ML):\n",
    "    def __init__(self, d, e):\n",
    "        self.x = d\n",
    "        self.y = e\n",
    "        ML.__init__(self, d,e)\n",
    "        self._model = student()\n",
    "    \n",
    "    def printl(self):\n",
    "        print(self.b)"
   ]
  },
  {
   "cell_type": "code",
   "execution_count": 77,
   "metadata": {},
   "outputs": [
    {
     "name": "stdout",
     "output_type": "stream",
     "text": [
      "5\n",
      "4\n",
      "5\n"
     ]
    }
   ],
   "source": [
    "tree = DT(5,4)\n",
    "tree.fit(5,4)\n",
    "tree.printl()\n",
    "tree._model.printf(5)"
   ]
  },
  {
   "cell_type": "code",
   "execution_count": 18,
   "metadata": {},
   "outputs": [],
   "source": [
    "class A:\n",
    "    def __init__(self, name):\n",
    "        self.name = name\n",
    "        print(\"A\")\n",
    "\n",
    "class B(A):\n",
    "    def __init__(self, name):\n",
    "        print(\"B\")\n",
    "        A.__init__(self, name=name)"
   ]
  },
  {
   "cell_type": "code",
   "execution_count": 16,
   "metadata": {},
   "outputs": [],
   "source": [
    "class C(B):\n",
    "    def __init_(self, a, b):\n",
    "        self.b = b\n",
    "        print(\"C\")\n",
    "        B.__init__(self, a)"
   ]
  },
  {
   "cell_type": "code",
   "execution_count": 19,
   "metadata": {},
   "outputs": [
    {
     "name": "stdout",
     "output_type": "stream",
     "text": [
      "B\n",
      "A\n"
     ]
    }
   ],
   "source": [
    "c = B(\"varun\")"
   ]
  },
  {
   "cell_type": "code",
   "execution_count": 20,
   "metadata": {},
   "outputs": [
    {
     "data": {
      "text/plain": [
       "'varun'"
      ]
     },
     "execution_count": 20,
     "metadata": {},
     "output_type": "execute_result"
    }
   ],
   "source": [
    "c.name"
   ]
  },
  {
   "cell_type": "code",
   "execution_count": 52,
   "metadata": {},
   "outputs": [],
   "source": [
    "target = [1,2,3,4]"
   ]
  },
  {
   "cell_type": "code",
   "execution_count": 53,
   "metadata": {},
   "outputs": [],
   "source": [
    "d = {}"
   ]
  },
  {
   "cell_type": "code",
   "execution_count": 54,
   "metadata": {},
   "outputs": [],
   "source": [
    "d[\"A\"] = [1]"
   ]
  },
  {
   "cell_type": "code",
   "execution_count": 55,
   "metadata": {},
   "outputs": [],
   "source": [
    "d[\"A\"].extend(target)"
   ]
  },
  {
   "cell_type": "code",
   "execution_count": 41,
   "metadata": {},
   "outputs": [],
   "source": [
    "d[\"A\"] = d[\"A\"].append(target)"
   ]
  },
  {
   "cell_type": "code",
   "execution_count": 44,
   "metadata": {},
   "outputs": [],
   "source": [
    "d[\"A\"].append(target)"
   ]
  },
  {
   "cell_type": "code",
   "execution_count": 71,
   "metadata": {},
   "outputs": [],
   "source": [
    "a =  True\n",
    "b = False"
   ]
  },
  {
   "cell_type": "code",
   "execution_count": 79,
   "metadata": {},
   "outputs": [
    {
     "ename": "TypeError",
     "evalue": "'NoneType' object is not iterable",
     "output_type": "error",
     "traceback": [
      "\u001b[1;31m---------------------------------------------------------------------------\u001b[0m",
      "\u001b[1;31mTypeError\u001b[0m                                 Traceback (most recent call last)",
      "\u001b[1;32m<ipython-input-79-fc7ffa363c4d>\u001b[0m in \u001b[0;36m<module>\u001b[1;34m\u001b[0m\n\u001b[1;32m----> 1\u001b[1;33m \u001b[1;32mfor\u001b[0m \u001b[0mi\u001b[0m \u001b[1;32min\u001b[0m \u001b[1;32mNone\u001b[0m\u001b[1;33m:\u001b[0m\u001b[1;33m\u001b[0m\u001b[1;33m\u001b[0m\u001b[0m\n\u001b[0m\u001b[0;32m      2\u001b[0m     \u001b[0mprint\u001b[0m\u001b[1;33m(\u001b[0m\u001b[1;34m\"HI\"\u001b[0m\u001b[1;33m)\u001b[0m\u001b[1;33m\u001b[0m\u001b[1;33m\u001b[0m\u001b[0m\n",
      "\u001b[1;31mTypeError\u001b[0m: 'NoneType' object is not iterable"
     ]
    }
   ],
   "source": [
    "for i in None:\n",
    "    print(\"HI\")"
   ]
  },
  {
   "cell_type": "code",
   "execution_count": null,
   "metadata": {},
   "outputs": [],
   "source": []
  }
 ],
 "metadata": {
  "kernelspec": {
   "display_name": "Python 3",
   "language": "python",
   "name": "python3"
  },
  "language_info": {
   "codemirror_mode": {
    "name": "ipython",
    "version": 3
   },
   "file_extension": ".py",
   "mimetype": "text/x-python",
   "name": "python",
   "nbconvert_exporter": "python",
   "pygments_lexer": "ipython3",
   "version": "3.7.6"
  }
 },
 "nbformat": 4,
 "nbformat_minor": 4
}
